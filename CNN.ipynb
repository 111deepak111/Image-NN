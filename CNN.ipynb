{
 "cells": [
  {
   "cell_type": "code",
   "execution_count": 2,
   "metadata": {
    "id": "S2IYUckfik17"
   },
   "outputs": [],
   "source": [
    "import tensorflow as tf\n",
    "from tensorflow.keras import layers,models,datasets\n",
    "import matplotlib.pyplot as plt\n"
   ]
  },
  {
   "cell_type": "code",
   "execution_count": 3,
   "metadata": {
    "colab": {
     "base_uri": "https://localhost:8080/"
    },
    "id": "KBXkv9G-i4zQ",
    "outputId": "6cc28972-520c-4c4c-aa4c-5320f1b261af"
   },
   "outputs": [
    {
     "data": {
      "text/plain": [
       "(32, 32, 3)"
      ]
     },
     "execution_count": 3,
     "metadata": {},
     "output_type": "execute_result"
    }
   ],
   "source": [
    "(trainI,trainL),(testI,testL)=datasets.cifar10.load_data()\n",
    "trainI,testI=trainI/255,testI/255\n",
    "trainI[0].shape"
   ]
  },
  {
   "cell_type": "code",
   "execution_count": 4,
   "metadata": {
    "colab": {
     "base_uri": "https://localhost:8080/",
     "height": 826
    },
    "id": "nCOgHWlPjLQ-",
    "outputId": "8713b174-74ed-48df-9343-b1f2d0dc327f"
   },
   "outputs": [],
   "source": [
    "names=['aeroplane','automible','bird','cat','deer','dog','frog','horse','ship','truck']\n"
   ]
  },
  {
   "cell_type": "code",
   "execution_count": 8,
   "metadata": {
    "colab": {
     "base_uri": "https://localhost:8080/"
    },
    "id": "50lRg2M-jwMU",
    "outputId": "0ee89275-5e67-4860-b3cb-ea97fdfca4a1"
   },
   "outputs": [
    {
     "name": "stdout",
     "output_type": "stream",
     "text": [
      "Model: \"sequential_3\"\n",
      "_________________________________________________________________\n",
      " Layer (type)                Output Shape              Param #   \n",
      "=================================================================\n",
      " conv2d_4 (Conv2D)           (None, 30, 30, 32)        896       \n",
      "                                                                 \n",
      " max_pooling2d_4 (MaxPooling  (None, 15, 15, 32)       0         \n",
      " 2D)                                                             \n",
      "                                                                 \n",
      " dropout_1 (Dropout)         (None, 15, 15, 32)        0         \n",
      "                                                                 \n",
      " conv2d_5 (Conv2D)           (None, 13, 13, 64)        18496     \n",
      "                                                                 \n",
      " max_pooling2d_5 (MaxPooling  (None, 6, 6, 64)         0         \n",
      " 2D)                                                             \n",
      "                                                                 \n",
      " dropout_2 (Dropout)         (None, 6, 6, 64)          0         \n",
      "                                                                 \n",
      " conv2d_6 (Conv2D)           (None, 4, 4, 64)          36928     \n",
      "                                                                 \n",
      "=================================================================\n",
      "Total params: 56,320\n",
      "Trainable params: 56,320\n",
      "Non-trainable params: 0\n",
      "_________________________________________________________________\n"
     ]
    }
   ],
   "source": [
    "model=models.Sequential()\n",
    "model.add(layers.Conv2D(32,(3,3),activation='relu',input_shape=(32,32,3)))\n",
    "model.add(layers.MaxPooling2D((2,2)))\n",
    "model.add(layers.Dropout(0.2))\n",
    "model.add(layers.Conv2D(64,(3,3),activation='relu'))\n",
    "model.add(layers.MaxPooling2D(2,2))\n",
    "model.add(layers.Dropout(0.2))\n",
    "model.add(layers.Conv2D(64,(3,3),activation='tanh'))\n",
    "model.summary()"
   ]
  },
  {
   "cell_type": "code",
   "execution_count": 9,
   "metadata": {
    "colab": {
     "base_uri": "https://localhost:8080/"
    },
    "id": "savalJVMqZpk",
    "outputId": "96e4a51b-21cb-4c83-e202-91db4876463f"
   },
   "outputs": [
    {
     "name": "stdout",
     "output_type": "stream",
     "text": [
      "Model: \"sequential_3\"\n",
      "_________________________________________________________________\n",
      " Layer (type)                Output Shape              Param #   \n",
      "=================================================================\n",
      " conv2d_4 (Conv2D)           (None, 30, 30, 32)        896       \n",
      "                                                                 \n",
      " max_pooling2d_4 (MaxPooling  (None, 15, 15, 32)       0         \n",
      " 2D)                                                             \n",
      "                                                                 \n",
      " dropout_1 (Dropout)         (None, 15, 15, 32)        0         \n",
      "                                                                 \n",
      " conv2d_5 (Conv2D)           (None, 13, 13, 64)        18496     \n",
      "                                                                 \n",
      " max_pooling2d_5 (MaxPooling  (None, 6, 6, 64)         0         \n",
      " 2D)                                                             \n",
      "                                                                 \n",
      " dropout_2 (Dropout)         (None, 6, 6, 64)          0         \n",
      "                                                                 \n",
      " conv2d_6 (Conv2D)           (None, 4, 4, 64)          36928     \n",
      "                                                                 \n",
      " flatten (Flatten)           (None, 1024)              0         \n",
      "                                                                 \n",
      " dense (Dense)               (None, 64)                65600     \n",
      "                                                                 \n",
      " dropout_3 (Dropout)         (None, 64)                0         \n",
      "                                                                 \n",
      " dense_1 (Dense)             (None, 32)                2080      \n",
      "                                                                 \n",
      " dense_2 (Dense)             (None, 10)                330       \n",
      "                                                                 \n",
      "=================================================================\n",
      "Total params: 124,330\n",
      "Trainable params: 124,330\n",
      "Non-trainable params: 0\n",
      "_________________________________________________________________\n"
     ]
    }
   ],
   "source": [
    "model.add(layers.Flatten())\n",
    "model.add(layers.Dense(64,activation='tanh'))\n",
    "model.add(layers.Dropout(0.2))\n",
    "model.add(layers.Dense(32,activation='relu'))\n",
    "model.add(layers.Dense(10))\n",
    "model.summary()"
   ]
  },
  {
   "cell_type": "code",
   "execution_count": 12,
   "metadata": {
    "colab": {
     "base_uri": "https://localhost:8080/"
    },
    "id": "XQTRz2CiqwJy",
    "outputId": "985c14d5-585a-48d4-b727-27b2866a3c32"
   },
   "outputs": [
    {
     "name": "stdout",
     "output_type": "stream",
     "text": [
      "Epoch 1/20\n",
      "98/98 [==============================] - 4s 28ms/step - loss: 0.7750 - accuracy: 0.7299 - val_loss: 0.8013 - val_accuracy: 0.7215\n",
      "Epoch 2/20\n",
      "98/98 [==============================] - 2s 24ms/step - loss: 0.7526 - accuracy: 0.7383 - val_loss: 0.7691 - val_accuracy: 0.7356\n",
      "Epoch 3/20\n",
      "98/98 [==============================] - 2s 24ms/step - loss: 0.7422 - accuracy: 0.7396 - val_loss: 0.7992 - val_accuracy: 0.7255\n",
      "Epoch 4/20\n",
      "98/98 [==============================] - 2s 24ms/step - loss: 0.7427 - accuracy: 0.7417 - val_loss: 0.7947 - val_accuracy: 0.7235\n",
      "Epoch 5/20\n",
      "98/98 [==============================] - 2s 24ms/step - loss: 0.7307 - accuracy: 0.7432 - val_loss: 0.7966 - val_accuracy: 0.7258\n",
      "Epoch 6/20\n",
      "98/98 [==============================] - 2s 24ms/step - loss: 0.7260 - accuracy: 0.7443 - val_loss: 0.7682 - val_accuracy: 0.7372\n",
      "Epoch 7/20\n",
      "98/98 [==============================] - 2s 24ms/step - loss: 0.7230 - accuracy: 0.7479 - val_loss: 0.7487 - val_accuracy: 0.7412\n",
      "Epoch 8/20\n",
      "98/98 [==============================] - 2s 24ms/step - loss: 0.7146 - accuracy: 0.7504 - val_loss: 0.7475 - val_accuracy: 0.7445\n",
      "Epoch 9/20\n",
      "98/98 [==============================] - 2s 24ms/step - loss: 0.7099 - accuracy: 0.7526 - val_loss: 0.7396 - val_accuracy: 0.7458\n",
      "Epoch 10/20\n",
      "98/98 [==============================] - 2s 24ms/step - loss: 0.7051 - accuracy: 0.7521 - val_loss: 0.7610 - val_accuracy: 0.7378\n",
      "Epoch 11/20\n",
      "98/98 [==============================] - 2s 24ms/step - loss: 0.7013 - accuracy: 0.7539 - val_loss: 0.7385 - val_accuracy: 0.7475\n",
      "Epoch 12/20\n",
      "98/98 [==============================] - 2s 24ms/step - loss: 0.6976 - accuracy: 0.7555 - val_loss: 0.7642 - val_accuracy: 0.7414\n",
      "Epoch 13/20\n",
      "98/98 [==============================] - 2s 24ms/step - loss: 0.6911 - accuracy: 0.7572 - val_loss: 0.7492 - val_accuracy: 0.7426\n",
      "Epoch 14/20\n",
      "98/98 [==============================] - 3s 26ms/step - loss: 0.6813 - accuracy: 0.7619 - val_loss: 0.7435 - val_accuracy: 0.7452\n",
      "Epoch 15/20\n",
      "98/98 [==============================] - 3s 26ms/step - loss: 0.6799 - accuracy: 0.7611 - val_loss: 0.7434 - val_accuracy: 0.7437\n",
      "Epoch 16/20\n",
      "98/98 [==============================] - 2s 24ms/step - loss: 0.6774 - accuracy: 0.7627 - val_loss: 0.7519 - val_accuracy: 0.7443\n",
      "Epoch 17/20\n",
      "98/98 [==============================] - 2s 24ms/step - loss: 0.6724 - accuracy: 0.7636 - val_loss: 0.7650 - val_accuracy: 0.7391\n",
      "Epoch 18/20\n",
      "98/98 [==============================] - 2s 24ms/step - loss: 0.6712 - accuracy: 0.7667 - val_loss: 0.7599 - val_accuracy: 0.7390\n",
      "Epoch 19/20\n",
      "98/98 [==============================] - 2s 24ms/step - loss: 0.6620 - accuracy: 0.7676 - val_loss: 0.7180 - val_accuracy: 0.7522\n",
      "Epoch 20/20\n",
      "98/98 [==============================] - 2s 24ms/step - loss: 0.6560 - accuracy: 0.7717 - val_loss: 0.7287 - val_accuracy: 0.7509\n"
     ]
    }
   ],
   "source": [
    "model.compile(\n",
    "    optimizer='adam',\n",
    "    loss=tf.keras.losses.SparseCategoricalCrossentropy(from_logits=True),\n",
    "    metrics=['accuracy']\n",
    ")\n",
    "history=model.fit(trainI,trainL,epochs=20,validation_data=(testI,testL),batch_size=512)\n"
   ]
  },
  {
   "cell_type": "code",
   "execution_count": 13,
   "metadata": {
    "colab": {
     "base_uri": "https://localhost:8080/",
     "height": 473
    },
    "id": "6sJr4mlzxdj8",
    "outputId": "2240d8b0-196a-44f3-89c3-f0e593c652d2"
   },
   "outputs": [
    {
     "data": {
      "image/png": "[encoded data removed]",
      "text/plain": [
       "<Figure size 640x480 with 1 Axes>"
      ]
     },
     "metadata": {},
     "output_type": "display_data"
    }
   ],
   "source": [
    "model.save('my_model.keras')\n",
    "plt.plot(history.history['accuracy'], label='accuracy')\n",
    "plt.plot(history.history['val_accuracy'], label = 'val_accuracy')\n",
    "plt.xlabel('Epoch')\n",
    "plt.ylabel('Accuracy')\n",
    "plt.ylim([0.5, 1])\n",
    "plt.legend(loc='lower right')\n",
    "\n",
    "test_loss, test_acc = model.evaluate(testI,  testL, verbose=5)"
   ]
  },
  {
   "cell_type": "code",
   "execution_count": null,
   "metadata": {
    "colab": {
     "base_uri": "https://localhost:8080/"
    },
    "id": "sYjCQ_cFx2vT",
    "outputId": "033a75ea-8127-4428-f874-fddac60d7574"
   },
   "outputs": [],
   "source": [
    "print(test_acc)"
   ]
  },
  {
   "cell_type": "code",
   "execution_count": null,
   "metadata": {},
   "outputs": [],
   "source": []
  }
 ],
 "metadata": {
  "colab": {
   "provenance": []
  },
  "kernelspec": {
   "display_name": "Python 3 (ipykernel)",
   "language": "python",
   "name": "python3"
  },
  "language_info": {
   "codemirror_mode": {
    "name": "ipython",
    "version": 3
   },
   "file_extension": ".py",
   "mimetype": "text/x-python",
   "name": "python",
   "nbconvert_exporter": "python",
   "pygments_lexer": "ipython3",
   "version": "3.9.18"
  }
 },
 "nbformat": 4,
 "nbformat_minor": 4
}
